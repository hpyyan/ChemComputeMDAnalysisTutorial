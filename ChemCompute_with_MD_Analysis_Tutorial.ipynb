{
 "cells": [
  {
   "cell_type": "markdown",
   "metadata": {},
   "source": [
    "# Analyzing an MD Simulation from ChemCompute Using MD Analysis\n",
    "by Gianmarc Grazioli, Ph.D.  \n",
    "\n",
    "### Overview\n",
    "This project gives you the opportunity to learn how to: \n",
    "1) Run molecular dynamics simulations using the NAMD software package through you browser using ChemCompute.\n",
    "2) Do some analysis of the simulation data using the MD Analysis Python library\n",
    "\n",
    "In this Jupyter notebook, you will use the MDAnalysis Python library to analyze data from a short molecular dynamics simulation of your assigned protein solvated in water. \n",
    "\n",
    "### YouTube Video\n",
    "This activity has an accompanying YouTube video here: https://youtu.be/jrv_cAG514k \n",
    "\n",
    "### Installing Libraries\n",
    "If you have never used the Python libraries MDAnalysis or nglview, first uncomment and then execute the cells beginning with __pip install__ below to install these libraries onto your computer. Once installed, you can comment these cells back out."
   ]
  },
  {
   "cell_type": "code",
   "execution_count": 1,
   "metadata": {},
   "outputs": [],
   "source": "#pip install --user MDAnalysis MDAnalysisTests  #analyze molecular dynamics simulation#"
  },
  {
   "cell_type": "code",
   "execution_count": 2,
   "metadata": {},
   "outputs": [],
   "source": "#pip install nglview   #visualizing md analysis like vmd#"
  },
  {
   "cell_type": "code",
   "execution_count": 3,
   "metadata": {},
   "outputs": [],
   "source": "#pip install ipywidgets"
  },
  {
   "cell_type": "markdown",
   "metadata": {},
   "source": [
    "### Import the necessary libraries:"
   ]
  },
  {
   "cell_type": "code",
   "metadata": {
    "ExecuteTime": {
     "end_time": "2025-07-07T06:16:25.804537Z",
     "start_time": "2025-07-07T06:16:25.801250Z"
    }
   },
   "source": [
    "import pickle\n",
    "import MDAnalysis as mda\n",
    "import numpy as np\n",
    "import matplotlib.pyplot as plt\n",
    "import nglview as nv\n",
    "import os\n",
    "import pandas as pd"
   ],
   "outputs": [],
   "execution_count": 11
  },
  {
   "cell_type": "markdown",
   "metadata": {},
   "source": [
    "### Load and visualize your assigned protein:\n",
    "1) Download your protein's pdb file from the Protein Data Bank (PDB) https://www.rcsb.org/\n",
    "2) Drag your pdb file from your downloads into the same directory where this Jupyter notebook is located (do not leave this Jupyter notebook in your Downloads directory).\n",
    "3) Modify the code below so that your pdb file name replaces your.pdb.\n",
    "\n",
    "Note the line: u1 = mda.Universe(\"your.pdb\")\n",
    "This line creates an instanced named u1 of an object native to MDAnalysis called a Universe. The Universe is a convenient object that can hold a variety of important attributes for MD simulations (number of atoms, all the atom names, positions, etc.) and possesses a variety of methods, such as the ability to add angles of interest to be calculated.\n",
    "\n",
    "4) Excecute the cell below to load the pdb structure into this notebook and view it.\n",
    "5) Try moving the structure around to get a better feel for it spatially."
   ]
  },
  {
   "cell_type": "code",
   "metadata": {
    "ExecuteTime": {
     "end_time": "2025-07-07T06:48:34.202288Z",
     "start_time": "2025-07-07T06:48:34.172109Z"
    }
   },
   "source": [
    "# Load the PDB structure\n",
    "u1 = mda.Universe(\"Chloroform.pdb\")\n",
    "#Universe is an object that recognize the file type that describe the molecule\n",
    "\n",
    "# Create a view using nglview\n",
    "view = nv.show_mdanalysis(u1)\n",
    "\n",
    "# Display the visualization in the notebook\n",
    "view"
   ],
   "outputs": [
    {
     "name": "stdout",
     "output_type": "stream",
     "text": [
      "<PDBReader Chloroform.pdb with 1 frames of 5 atoms>\n"
     ]
    }
   ],
   "execution_count": 32
  },
  {
   "cell_type": "markdown",
   "metadata": {},
   "source": [
    "### Measure the size of your assigned protein:\n",
    "1) Access the positions of all the atoms using the u1 object and then get the position of the atom with the lowest x,y, and z coordinate with the command: min_coords = u1.atoms.positions.min(axis=0)\n",
    "2) Create a variable max_coords, and modify the command above to set it equal to the coordinates of the atom with the highest x,y, and z coordinates.\n",
    "3) Take the difference between these two vectors to determine the dimensions of the structure."
   ]
  },
  {
   "cell_type": "code",
   "metadata": {
    "ExecuteTime": {
     "end_time": "2025-07-07T06:34:13.808825Z",
     "start_time": "2025-07-07T06:34:13.803977Z"
    }
   },
   "source": [
    "# Calculate the bounding box of the structure\n",
    "min_coords = u1.atoms.positions.min(axis=0)\n",
    "max_coords = u1.atoms.positions.max(axis=0)\n",
    "\n",
    "max_coords - min_coords"
   ],
   "outputs": [
    {
     "data": {
      "text/plain": [
       "array([2.8439999, 2.58     , 2.071    ], dtype=float32)"
      ]
     },
     "execution_count": 27,
     "metadata": {},
     "output_type": "execute_result"
    }
   ],
   "execution_count": 27
  },
  {
   "cell_type": "markdown",
   "metadata": {},
   "source": [
    "### Running a Molecular Dynamics simulation on ChemCompute:\n",
    "1) Sign up for a free acount: https://chemcompute.org/, then login to your account.\n",
    "2) Go to the NAMD tab on their website.\n",
    "3) Click submitting a job.\n",
    "4) Enter your assigned Protein Data Bank (PDB) ID (e.g. 1YRF)\n",
    "5) Choose the size of your simulated water box, ensuring that all side lengths are at least double the length of the longest dimension of the protein.\n",
    "6) Run the simulation with the rest of the parameters set to their default values.\n",
    "\n",
    "You should see spinning gears to indicate that your simulation has started running. It is a good idea to copy your job ID number, in case you need to look up your results later. Be forewarned, especially if your protein structure is large, __this could take a few hours!__ \n",
    "\n",
    "7) Once the gears stop spinning, click Download Output File, and move the downloaded zip file into the same directory as this Jupyter notebook. Then unzip the file and rename the directory simData."
   ]
  },
  {
   "cell_type": "markdown",
   "metadata": {},
   "source": [
    "### Loading Simulation Data for Ubiquitin in Explicit Water\n",
    "Here we will again take advantage of the extremely helpful MDAnalysis library for loading all of the simulation data into a single object called a __Universe__.  \n",
    "\n",
    "5) Define a path to the trajectory data below using os.path.join, then load the files box_wb.psf and md.dcd into an MDAnalysis __Universe__ called u."
   ]
  },
  {
   "cell_type": "code",
   "execution_count": 7,
   "metadata": {},
   "outputs": [],
   "source": [
    "PSF = os.path.join()    #protein structure file\n",
    "DCD = os.path.join()    #dynamic coordinate data (moving coordinates)\n",
    "u = mda.Universe(PSF, DCD)"
   ]
  },
  {
   "cell_type": "markdown",
   "metadata": {},
   "source": [
    "### Visualizing the Trajectory using NGLview\n",
    "\n",
    "6) Use the nglview function __show_mdanalysis()__ to operate on the universe __u__ to create an object called wBox. Then use the __add_representation()__ function to add a representation of the water molecules to the wBox object. Use the \"licorice\" visualization style, your selection should of course be \"water,\" and set the color to cyan. Once you have defined the wBox object, execute a new code cell with just wBox in it, and you should be treated to a very cool animated visualization of the simulation data!  "
   ]
  },
  {
   "cell_type": "code",
   "execution_count": 8,
   "metadata": {},
   "outputs": [],
   "source": [
    "# wBox = nv.show_mdanalysis(u)\n",
    "# wBox.add_representation()"
   ]
  },
  {
   "cell_type": "code",
   "execution_count": 9,
   "metadata": {},
   "outputs": [],
   "source": [
    "# wBox"
   ]
  },
  {
   "cell_type": "markdown",
   "metadata": {},
   "source": [
    "### Analyzing the Simulation Data using MDAnalysis\n",
    "\n",
    "7) There is a great MDAnalysis demonstration on YouTube that I recommend you check out here:\\\n",
    "https://youtu.be/zVQGFysYDew \\\n",
    "\\\n",
    "In particular, there is a demonstration where they plot RMSF (root mean squared fluctuations) of the alpha carbons of a protein changing as a function of time. The RMSF plot basically shows you which alpha carbons are the most \"wiggly\" as you move down the protein's backbone. The code written in the YouTube video uses a trick whereby averaging is done while iterating over the loop by reweighting based on how far along in the loop you are (e.g. note that they use enumerate to get the iterator k, and then reweight so that the 2nd step is weight 1/2, then 3rd is 2/3, then 3/4, etc.). If you'd like to code it their way, simply copy their code in a cell below, just make sure you read it carefully and are able to explain to someone else how it works! The method they use is great for efficiency, and is often used when massive data sets cannot be loaded in their entirety, so one must calculate averages while loading the data piece by piece. In our case, we are working with a very small data set by molecular dynamics standards, so we can easily load the full data set and carry out averaging the standard way (do the full sum, then divide). In a cell below, write a code that uses the MDAnalysis library to create a plot of RMSF as a function of residue number, like the one in their video, from your trajectory.\n",
    "\n",
    "If you decide to try writing your own code for calculating RMSF, here are some steps:\n",
    "\n",
    "- Store all the alpha carbon positions in an array called ca_positions by looping over the trajectory object accessible from the Universe object (u.trajectory).\n",
    "- Store the mean positions of these alpha carbons in array mean_positions by using the mean method native to arrays.\n",
    "- Calculate the squared displacements by subtracting the mean positions from the ca positions and squaring that difference. __Note:__ since ca_positions and mean_positions are numpy arrays, you can do the subtraction and squaring as vector operations, so no need to write a loop of any sort.\n",
    "- Calculate the mean squared displacement by taking the mean of the squared_displacements array. __Note:__ the final squared displacements involve summing over the squared displacements in x,y, and z. If that seems odd, consider that the definition of Euclidean distance is: $$r = \\sqrt{\\Delta x^2 + \\Delta y^2 + \\Delta z^2},$$ so it is really not so strange since $$r^2 = \\Delta x^2 + \\Delta y^2 + \\Delta z^2$$.\n",
    "- The only part of the calculation at this point is to take the square root, since it is a __root__ mean squared fluctuation, afterall! Thus the last step is, rmsf = np.sqrt(mean_squared_displacements).\n",
    "- As far as plotting goes, use matplotlib.pyplot to plot RMSF the same way Dr. Beckstein does it in his video."
   ]
  },
  {
   "cell_type": "code",
   "execution_count": 10,
   "metadata": {},
   "outputs": [],
   "source": [
    "# Step 1: Load all positions of CA atoms over all trajectory frames\n",
    "# ca = # select all the carbon atoms first using select_atoms()\n",
    "# ca_positions = \n",
    "\n",
    "# Step 2: Compute the mean position for each atom across all frames\n",
    "# mean_positions = \n",
    "\n",
    "# Step 3: Compute RMSF for each atom\n",
    "# squared_displacements = \n",
    "# mean_squared_displacements = \n",
    "# rmsf = \n",
    "\n",
    "# Step 4: Plot RMSF against residue IDs\n",
    "# plt.plot(ca.residues.resids, rmsf)\n",
    "# plt.plot(ca.residues.resids, rmsf, 'o')\n",
    "# plt.xlabel(\"Alpha Carbon Resid\")\n",
    "# plt.ylabel(\"RMSF\")\n",
    "# plt.show()"
   ]
  },
  {
   "cell_type": "markdown",
   "metadata": {},
   "source": [
    "Now that we have quantified how much each amino acid's alpha carbon is jiggling about during the simulation, let us next create an animated molecular visualization that highlights the two most jiggly amino acids. To do this, let's programmatically obtain the residue IDs (resid) of the top 2 most jiggly alpha carbons:\n",
    "\n",
    "8) The DataFrame object from the Pandas library is a fantastic structure for storing and analyzing data, so let's store the RMSF data in a DataFrame, where the first column is the resid and the second column is RMSF. \n",
    "9) Once the DataFrame is created, sort the rows in place in descending order by rmsf, and then take a look at the first few rows and record the top 2 most jiggly residues below:\n",
    "\n",
    "__Most jiggly residue =__ \\\n",
    "__Second most jiggly residue =__ "
   ]
  },
  {
   "cell_type": "code",
   "execution_count": 11,
   "metadata": {},
   "outputs": [],
   "source": [
    "#resid_with_rmsf = pd.DataFrame()"
   ]
  },
  {
   "cell_type": "markdown",
   "metadata": {},
   "source": [
    "9) Now that you know which two alpha carbons are jiggling the most:\n",
    "\n",
    "> 9.a) Use nglview to create a visualization where the two most jiggly residues are highlighted by coloring them differently from the rest of the protein (leave the waters out for clarity this time).\n",
    "\n",
    "> 9.b) Add a markdown cell below your visualization where you describe, in your own words, why you think these residues are more jiggly than the rest."
   ]
  },
  {
   "cell_type": "code",
   "execution_count": 12,
   "metadata": {},
   "outputs": [],
   "source": [
    "# jiggles = nv.show_mdanalysis(u)\n",
    "# jiggles.add_representation()"
   ]
  },
  {
   "cell_type": "code",
   "execution_count": 13,
   "metadata": {},
   "outputs": [],
   "source": [
    "# jiggles"
   ]
  }
 ],
 "metadata": {
  "kernelspec": {
   "display_name": "Python 3 (ipykernel)",
   "language": "python",
   "name": "python3"
  },
  "language_info": {
   "codemirror_mode": {
    "name": "ipython",
    "version": 3
   },
   "file_extension": ".py",
   "mimetype": "text/x-python",
   "name": "python",
   "nbconvert_exporter": "python",
   "pygments_lexer": "ipython3",
   "version": "3.11.5"
  }
 },
 "nbformat": 4,
 "nbformat_minor": 4
}
